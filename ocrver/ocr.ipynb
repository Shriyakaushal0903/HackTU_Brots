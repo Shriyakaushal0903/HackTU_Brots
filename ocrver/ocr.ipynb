{
 "cells": [
  {
   "cell_type": "code",
   "execution_count": 1,
   "metadata": {},
   "outputs": [
    {
     "name": "stdout",
     "output_type": "stream",
     "text": [
      "Defaulting to user installation because normal site-packages is not writeable\n",
      "Requirement already satisfied: pytesseract in c:\\users\\singh\\appdata\\roaming\\python\\python312\\site-packages (0.3.13)\n",
      "Requirement already satisfied: pillow in c:\\users\\singh\\appdata\\roaming\\python\\python312\\site-packages (11.0.0)\n",
      "Requirement already satisfied: opencv-python in c:\\users\\singh\\appdata\\roaming\\python\\python312\\site-packages (4.11.0.86)\n",
      "Requirement already satisfied: packaging>=21.3 in c:\\users\\singh\\appdata\\roaming\\python\\python312\\site-packages (from pytesseract) (24.1)\n",
      "Requirement already satisfied: numpy>=1.21.2 in c:\\users\\singh\\appdata\\roaming\\python\\python312\\site-packages (from opencv-python) (2.1.2)\n",
      "Note: you may need to restart the kernel to use updated packages.\n"
     ]
    },
    {
     "name": "stderr",
     "output_type": "stream",
     "text": [
      "\n",
      "[notice] A new release of pip is available: 24.2 -> 25.0\n",
      "[notice] To update, run: python.exe -m pip install --upgrade pip\n"
     ]
    }
   ],
   "source": [
    "pip install pytesseract pillow opencv-python"
   ]
  },
  {
   "cell_type": "code",
   "execution_count": 2,
   "metadata": {},
   "outputs": [
    {
     "name": "stdout",
     "output_type": "stream",
     "text": [
      "5.5.0.20241111\n"
     ]
    }
   ],
   "source": [
    "import pytesseract\n",
    "\n",
    "pytesseract.pytesseract.tesseract_cmd = r\"C:\\Program Files\\Tesseract-OCR\\tesseract.exe\"\n",
    "print(pytesseract.get_tesseract_version())  # Should return Tesseract version\n"
   ]
  },
  {
   "cell_type": "code",
   "execution_count": 3,
   "metadata": {},
   "outputs": [
    {
     "name": "stdout",
     "output_type": "stream",
     "text": [
      "Extracted Text:\n",
      " A TETFT\n",
      "‘GOVERNMENT OF INDIA\n",
      "\n",
      "Name AGAM\n",
      "DOB: 22/01/2005\n",
      "\n",
      "Gender: FEMALE\n",
      "\n",
      "0000 1111 2222 BF:\n",
      "EE# & AAFR\n",
      "\n",
      "\n"
     ]
    }
   ],
   "source": [
    "import cv2\n",
    "import pytesseract\n",
    "from PIL import Image\n",
    "\n",
    "# Set Tesseract path (Only for Windows)\n",
    "pytesseract.pytesseract.tesseract_cmd = r'C:\\Program Files\\Tesseract-OCR\\tesseract.exe'\n",
    "\n",
    "# Load image\n",
    "image = cv2.imread(r\"C:\\Users\\singh\\Downloads\\loan-approval-prediction-main\\loan-approval-prediction-main\\ocrver\\AGAM adhaar sample.png\")\n",
    "\n",
    "# Convert image to grayscale (improves OCR accuracy)\n",
    "gray = cv2.cvtColor(image, cv2.COLOR_BGR2GRAY)\n",
    "\n",
    "# Optional: Apply thresholding\n",
    "gray = cv2.threshold(gray, 0, 255, cv2.THRESH_BINARY | cv2.THRESH_OTSU)[1]\n",
    "\n",
    "# Save preprocessed image\n",
    "cv2.imwrite(\"processed.png\", gray)\n",
    "\n",
    "# Extract text using Tesseract\n",
    "text = pytesseract.image_to_string(gray, lang=\"eng\")  # Change language if needed\n",
    "\n",
    "print(\"Extracted Text:\\n\", text)"
   ]
  },
  {
   "cell_type": "code",
   "execution_count": 4,
   "metadata": {},
   "outputs": [],
   "source": [
    "# import libraries\n",
    "import csv\n",
    "import cv2\n",
    "import pytesseract\n",
    "\n",
    "\n",
    "def pre_processing(image):\n",
    "    \"\"\"\n",
    "    This function take one argument as\n",
    "    input. this function will convert\n",
    "    input image to binary image\n",
    "    :param image: image\n",
    "    :return: thresholded image\n",
    "    \"\"\"\n",
    "    gray_image = cv2.cvtColor(image, cv2.COLOR_BGR2GRAY)\n",
    "    # converting it to binary image\n",
    "    threshold_img = cv2.threshold(gray_image, 0, 255, cv2.THRESH_BINARY | cv2.THRESH_OTSU)[1]\n",
    "    # saving image to view threshold image\n",
    "    cv2.imwrite('thresholded.png', threshold_img)\n",
    "\n",
    "    cv2.imshow('threshold image', threshold_img)\n",
    "    # Maintain output window until\n",
    "    # user presses a key\n",
    "    cv2.waitKey(0)\n",
    "    # Destroying present windows on screen\n",
    "    cv2.destroyAllWindows()\n",
    "\n",
    "    return threshold_img\n",
    "\n",
    "\n",
    "def parse_text(threshold_img):\n",
    "    \"\"\"\n",
    "    This function take one argument as\n",
    "    input. this function will feed input\n",
    "    image to tesseract to predict text.\n",
    "    :param threshold_img: image\n",
    "    return: meta-data dictionary\n",
    "    \"\"\"\n",
    "    # configuring parameters for tesseract\n",
    "    tesseract_config = r'--oem 3 --psm 6'\n",
    "    # now feeding image to tesseract\n",
    "    details = pytesseract.image_to_data(threshold_img, output_type=pytesseract.Output.DICT,\n",
    "                                        config=tesseract_config, lang='eng')\n",
    "    return details\n",
    "\n",
    "\n",
    "def draw_boxes(image, details, threshold_point):\n",
    "    \"\"\"\n",
    "    This function takes three argument as\n",
    "    input. it draw boxes on text area detected\n",
    "    by Tesseract. it also writes resulted image to\n",
    "    your local disk so that you can view it.\n",
    "    :param image: image\n",
    "    :param details: dictionary\n",
    "    :param threshold_point: integer\n",
    "    :return: None\n",
    "    \"\"\"\n",
    "    total_boxes = len(details['text'])\n",
    "    for sequence_number in range(total_boxes):\n",
    "        if int(details['conf'][sequence_number]) > threshold_point:\n",
    "            (x, y, w, h) = (details['left'][sequence_number], details['top'][sequence_number],\n",
    "                            details['width'][sequence_number], details['height'][sequence_number])\n",
    "            image = cv2.rectangle(image, (x, y), (x + w, y + h), (0, 255, 0), 2)\n",
    "    # saving image to local\n",
    "    cv2.imwrite('captured_text_area.png', image)\n",
    "    # display image\n",
    "    cv2.imshow('captured text', image)\n",
    "    # Maintain output window until user presses a key\n",
    "    cv2.waitKey(0)\n",
    "    # Destroying present windows on screen\n",
    "    cv2.destroyAllWindows()\n",
    "\n",
    "\n",
    "def format_text(details):\n",
    "    \"\"\"\n",
    "    This function take one argument as\n",
    "    input.This function will arrange\n",
    "    resulted text into proper format.\n",
    "    :param details: dictionary\n",
    "    :return: list\n",
    "    \"\"\"\n",
    "    parse_text = []\n",
    "    word_list = []\n",
    "    last_word = ''\n",
    "    for word in details['text']:\n",
    "        if word != '':\n",
    "            word_list.append(word)\n",
    "            last_word = word\n",
    "        if (last_word != '' and word == '') or (word == details['text'][-1]):\n",
    "            parse_text.append(word_list)\n",
    "            word_list = []\n",
    "\n",
    "    return parse_text\n",
    "\n",
    "\n",
    "def write_text(formatted_text):\n",
    "    \"\"\"\n",
    "    This function take one argument.\n",
    "    it will write arranged text into\n",
    "    a file.\n",
    "    :param formatted_text: list\n",
    "    :return: None\n",
    "    \"\"\"\n",
    "    with open('resulted_text.txt', 'w', newline=\"\") as file:\n",
    "        csv.writer(file, delimiter=\" \").writerows(formatted_text)\n",
    "\n",
    "\n",
    "if __name__ == \"__main__\":\n",
    "    # reading image from local\n",
    "    image = cv2.imread(r'C:\\Users\\singh\\Downloads\\loan-approval-prediction-main\\loan-approval-prediction-main\\ocrver\\AGAM adhaar sample.png')\n",
    "    # calling pre_processing function to perform pre-processing on input image.\n",
    "    thresholds_image = pre_processing(image)\n",
    "    # calling parse_text function to get text from image by Tesseract.\n",
    "    parsed_data = parse_text(thresholds_image)\n",
    "    # defining threshold for draw box\n",
    "    accuracy_threshold = 30\n",
    "    # calling draw_boxes function which will draw dox around text area.\n",
    "    draw_boxes(thresholds_image, parsed_data, accuracy_threshold)\n",
    "    # calling format_text function which will format text according to input image\n",
    "    arranged_text = format_text(parsed_data)\n",
    "    # calling write_text function which will write arranged text into file\n",
    "    write_text(arranged_text)"
   ]
  },
  {
   "cell_type": "code",
   "execution_count": 6,
   "metadata": {},
   "outputs": [
    {
     "name": "stdout",
     "output_type": "stream",
     "text": [
      "S TR\n",
      "\\GOVERNMENT OF INDIA|\n",
      "\n",
      "Name AGAM\n",
      "DOB: 22/01/2005\n",
      "\n",
      "Gender: FEMALE\n",
      "\n",
      "0000 1111 2222 EK\n",
      "EE# & HOHR\n",
      "\n",
      "\n"
     ]
    }
   ],
   "source": [
    "import cv2\n",
    "import pytesseract\n",
    "\n",
    "def extract_text_from_aadhaar(image_path):\n",
    "    img = cv2.imread(image_path)\n",
    "    gray = cv2.cvtColor(img, cv2.COLOR_BGR2GRAY)  # Convert to grayscale\n",
    "    text = pytesseract.image_to_string(gray)\n",
    "    return text\n",
    "\n",
    "text = extract_text_from_aadhaar(r\"C:\\Users\\singh\\Downloads\\loan-approval-prediction-main\\loan-approval-prediction-main\\ocrver\\AGAM adhaar sample.png\")\n",
    "print(text)"
   ]
  },
  {
   "cell_type": "code",
   "execution_count": null,
   "metadata": {},
   "outputs": [],
   "source": [
    "\n",
    "# import re\n",
    "\n",
    "# def extract_aadhaar_details(text):\n",
    "#     name_pattern = r\"(?i)(?:name|naam)[:\\s]*([A-Za-z ]+)\"\n",
    "#     dob_pattern =   r\"\\b\\d{2}/\\d{2}/\\d{4}\\b\"\n",
    "#     aadhaar_pattern = r\"\\b\\d{4} \\d{4} \\d{4}\\b\"\n",
    "#     name = re.search(name_pattern, text)\n",
    "#     dob = re.search(dob_pattern, text)\n",
    "#     aadhaar_number = re.search(aadhaar_pattern, text)\n",
    "\n",
    "#     return {\n",
    "#         \"name\": name.group(1) if name else None,\n",
    "#         \"dob\": dob.group(1) if dob else None,\n",
    "#         \"aadhaar_number\": aadhaar_number.group() if aadhaar_number else None\n",
    "#     }\n",
    "\n",
    "# extracted_data = extract_aadhaar_details(text)\n",
    "# print(extracted_data)"
   ]
  },
  {
   "cell_type": "code",
   "execution_count": 7,
   "metadata": {},
   "outputs": [
    {
     "name": "stdout",
     "output_type": "stream",
     "text": [
      "{'name': 'AGAM', 'gender_number': 'FEMALE'}\n"
     ]
    }
   ],
   "source": [
    "import re\n",
    "\n",
    "def extract_aadhaar_details(text):\n",
    "    # Pattern to extract name (assumes \"Name: XYZ\" or similar format)\n",
    "    name_pattern = r\"(?i)(?:name|naam)[:\\s]*([A-Za-z ]+)\"\n",
    "    \n",
    "    # Pattern to extract gender (Male, Female, Transgender)\n",
    "    gender_pattern = r\"\\b(?:Male|Female)\\b\"\n",
    "\n",
    "    name = re.search(name_pattern, text)\n",
    "    gender = re.search(gender_pattern, text, re.IGNORECASE)\n",
    "\n",
    "    return {\n",
    "        \"name\": name.group(1).strip() if name else None,\n",
    "        \"gender_number\": gender.group() if gender else None\n",
    "    }\n",
    "\n",
    "# Extract details\n",
    "extracted_data = extract_aadhaar_details(text)\n",
    "print(extracted_data)\n"
   ]
  },
  {
   "cell_type": "code",
   "execution_count": null,
   "metadata": {},
   "outputs": [],
   "source": []
  }
 ],
 "metadata": {
  "kernelspec": {
   "display_name": "Python 3",
   "language": "python",
   "name": "python3"
  },
  "language_info": {
   "codemirror_mode": {
    "name": "ipython",
    "version": 3
   },
   "file_extension": ".py",
   "mimetype": "text/x-python",
   "name": "python",
   "nbconvert_exporter": "python",
   "pygments_lexer": "ipython3",
   "version": "3.12.5"
  }
 },
 "nbformat": 4,
 "nbformat_minor": 2
}
